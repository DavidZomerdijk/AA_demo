{
 "cells": [
  {
   "cell_type": "markdown",
   "metadata": {},
   "source": [
    "# Coding & Analytics 101\n",
    "\n",
    "In this training you will learn the very basics of python programming and data science.\n",
    "\n",
    "Structure:\n",
    "1. Basic programming\n",
    "2. Loading and analyzing data\n",
    "3. Preparing data for model\n",
    "4. Building a Decision Tree\n",
    "5. Evaluating and visualizing result\n",
    "6. Building a Random Forrest\n",
    "\n",
    "___\n",
    "\n",
    "For the training I suggest we walk through the steps per \"Chapter\" after which the participants go through them by themselves"
   ]
  },
  {
   "cell_type": "markdown",
   "metadata": {},
   "source": [
    "## Now first do some coding!\n",
    "\n",
    "### Printing & Variables:\n",
    "\n",
    "The basics of programming is that we can assign values to variables and display them by printing.\n",
    "\n",
    ">#### Exercise:\n",
    "1. Run the code cell using **shift+Enter**\n",
    "2. Change `name` variable into your name and run cell \n",
    "3. Change variable `age` and print Age"
   ]
  },
  {
   "cell_type": "code",
   "execution_count": 4,
   "metadata": {},
   "outputs": [
    {
     "name": "stdout",
     "output_type": "stream",
     "text": [
      "Elon\n",
      "Musk\n"
     ]
    }
   ],
   "source": [
    "firstname = \"Elon\"\n",
    "lastname = \"Musk\"\n",
    "age = 47\n",
    "\n",
    "print(firstname)\n",
    "print(lastname)"
   ]
  },
  {
   "cell_type": "markdown",
   "metadata": {},
   "source": [
    "**Solution:**"
   ]
  },
  {
   "cell_type": "code",
   "execution_count": 50,
   "metadata": {},
   "outputs": [],
   "source": [
    "firstname = \"David\"\n",
    "lastname = \"Zomerdijk\"\n",
    "age = 25\n",
    "\n",
    "print(firstname)\n",
    "print(lastname)\n",
    "print(age)"
   ]
  },
  {
   "cell_type": "markdown",
   "metadata": {},
   "source": [
    "### Combining variables\n",
    "\n",
    ">**Exercise**:\n",
    "1. Run the code block using **Shift+Enter**\n",
    "3. Create a variable `fullname` that is your fullname. Add text using +, add space using \" \"\n",
    "3. Print fullname"
   ]
  },
  {
   "cell_type": "code",
   "execution_count": 51,
   "metadata": {},
   "outputs": [],
   "source": [
    "# #example\n",
    "# text = \"wine\" + \"tasting\" + \" \" + \"event\"\n",
    "# print( text )"
   ]
  },
  {
   "cell_type": "code",
   "execution_count": 7,
   "metadata": {},
   "outputs": [
    {
     "name": "stdout",
     "output_type": "stream",
     "text": [
      "\n"
     ]
    }
   ],
   "source": [
    "firstname = \"Elon\"\n",
    "lastname = \"Musk\"\n",
    "\n",
    "fullname = ...\n",
    "print()"
   ]
  },
  {
   "cell_type": "markdown",
   "metadata": {},
   "source": [
    "**Solution:**"
   ]
  },
  {
   "cell_type": "code",
   "execution_count": 52,
   "metadata": {},
   "outputs": [],
   "source": [
    "# #Solution\n",
    "# firstname = \"Elon\"\n",
    "# lastname = \"Musk\"\n",
    "\n",
    "# fullname = firstname + \" \" + lastname\n",
    "# print( fullname )"
   ]
  },
  {
   "cell_type": "markdown",
   "metadata": {},
   "source": [
    "### Commenting\n",
    "\n",
    "Sometimes you want to insert comments into your code, or make sure that parts of your code doesn't run.\n",
    "\n",
    ">#### Exercise:\n",
    "1. Run the code block using **Shift+Enter**\n",
    "2. Comment the second print by putting a **#** in front of the line and run the block again\n",
    "\n",
    "HINT: use **ctrl + /** when line is selected"
   ]
  },
  {
   "cell_type": "code",
   "execution_count": 9,
   "metadata": {},
   "outputs": [
    {
     "name": "stdout",
     "output_type": "stream",
     "text": [
      "this should print\n",
      "this shouldn't be printed \n"
     ]
    }
   ],
   "source": [
    "# this is a comment\n",
    "print(\"this should print\")\n",
    "print(\"this shouldn't be printed \")"
   ]
  },
  {
   "cell_type": "markdown",
   "metadata": {},
   "source": [
    "**Solution:**"
   ]
  },
  {
   "cell_type": "code",
   "execution_count": 10,
   "metadata": {},
   "outputs": [
    {
     "name": "stdout",
     "output_type": "stream",
     "text": [
      "this should print\n"
     ]
    }
   ],
   "source": [
    "print(\"this should print\")\n",
    "# print(\"this shouldn't be printed \")"
   ]
  },
  {
   "cell_type": "markdown",
   "metadata": {},
   "source": [
    "### Calculations\n",
    "\n",
    "Since we are doing analytics, we also need to be able to do some calculations.\n",
    "\n",
    "\n",
    "`hp1` = *houseprice* 1,  `hp2` = *houseprice 2*, `n_houses` = *number of houses* \n",
    "\n",
    ">**Exercise:**\n",
    "1. make a variable calles *average_price* that represents the mean house price\n",
    "\n",
    "Hint:  mean = (**hp1** + **hp2**) / **n_houses**"
   ]
  },
  {
   "cell_type": "code",
   "execution_count": 53,
   "metadata": {},
   "outputs": [],
   "source": [
    "hp1 = 100.0\n",
    "hp2 = 200.0\n",
    "n_houses = 2\n",
    "\n",
    "# TODO: change number 99 into a formula using + , / and brackets ( )\n",
    "average_price = 99 \n",
    "\n",
    "print(average_price)"
   ]
  },
  {
   "cell_type": "markdown",
   "metadata": {},
   "source": [
    "**Solution:**"
   ]
  },
  {
   "cell_type": "code",
   "execution_count": 49,
   "metadata": {},
   "outputs": [],
   "source": [
    "hp1 = 100.0\n",
    "hp2 = 200.0\n",
    "n_houses = 2\n",
    "\n",
    "average_price = (hp1 + hp2) / n_houses\n",
    "print(\"Average house price:\", average_price) # we can print multiple variables by using a comma"
   ]
  },
  {
   "cell_type": "markdown",
   "metadata": {},
   "source": [
    "### Functions\n",
    "\n",
    "Sometimes you want to use a formula more often and therefore create a reusable codeblock (function)\n",
    "\n",
    ">**Exercise:**\n",
    "1. Create a function that is able to calculate mean of variable \n",
    "2. call the function **mean(a=10, b=20)**"
   ]
  },
  {
   "cell_type": "code",
   "execution_count": 13,
   "metadata": {},
   "outputs": [
    {
     "data": {
      "text/plain": [
       "60"
      ]
     },
     "execution_count": 13,
     "metadata": {},
     "output_type": "execute_result"
    }
   ],
   "source": [
    "# Example function\n",
    "def add( a, b, c ):\n",
    "    sum = a + b + c\n",
    "    return sum\n",
    "\n",
    "add( a = 10, b = 20, c =  30) "
   ]
  },
  {
   "cell_type": "code",
   "execution_count": 14,
   "metadata": {},
   "outputs": [],
   "source": [
    "# Your function\n",
    "def mean(a, b):\n",
    "    #TODO: change formula such that it calculates the mean\n",
    "    mean = ( a + b )         \n",
    "    return mean\n",
    "\n",
    "#TODO: call the function\n"
   ]
  },
  {
   "cell_type": "markdown",
   "metadata": {},
   "source": [
    "**Solution:**"
   ]
  },
  {
   "cell_type": "code",
   "execution_count": 48,
   "metadata": {},
   "outputs": [],
   "source": [
    "def mean(a, b):\n",
    "    #TODO: change this line\n",
    "    mean = (a + b) / 2         \n",
    "    return mean\n",
    "\n",
    "mean( a=10, b=20 ) "
   ]
  },
  {
   "cell_type": "markdown",
   "metadata": {},
   "source": [
    "## Analytics - data exploration"
   ]
  },
  {
   "cell_type": "markdown",
   "metadata": {},
   "source": [
    "### Libraries\n",
    "\n",
    "First we have to load libraries that allows us to easily do analysis.\n",
    "Libraries are chunks of prewritten functions written by third parties.\n",
    "\n",
    ">**Exercise:**\n",
    "1. import libaries by running code block below (**Shift+Enter**)"
   ]
  },
  {
   "cell_type": "code",
   "execution_count": 16,
   "metadata": {},
   "outputs": [],
   "source": [
    "import sklearn \n",
    "import pandas\n",
    "import numpy"
   ]
  },
  {
   "cell_type": "markdown",
   "metadata": {},
   "source": [
    "### Reading data\n",
    "To be able to do analytics we need to load the data into python. For this we are using a dataset of boston house prices in the seventies in $1000 together with some characteristics of the neighborhood. \n",
    "\n",
    ">**Exercise:**\n",
    "1. Load csv boston.csv into variable using the pandas library by using **pandas.read_csv(\"boston.csv\")**\n",
    "2. Display first rows of dataset by using **.head()** on variable\n",
    "3. Have a quick look at the columns, what variables are in there? Any useful ones to predict house prices? \n",
    "    "
   ]
  },
  {
   "cell_type": "code",
   "execution_count": 20,
   "metadata": {
    "scrolled": true
   },
   "outputs": [],
   "source": [
    "boston = pandas.read_csv(\"file.csv\")\n"
   ]
  },
  {
   "cell_type": "markdown",
   "metadata": {},
   "source": [
    "**Solution:**"
   ]
  },
  {
   "cell_type": "code",
   "execution_count": 22,
   "metadata": {},
   "outputs": [
    {
     "data": {
      "text/html": [
       "<div>\n",
       "<style scoped>\n",
       "    .dataframe tbody tr th:only-of-type {\n",
       "        vertical-align: middle;\n",
       "    }\n",
       "\n",
       "    .dataframe tbody tr th {\n",
       "        vertical-align: top;\n",
       "    }\n",
       "\n",
       "    .dataframe thead th {\n",
       "        text-align: right;\n",
       "    }\n",
       "</style>\n",
       "<table border=\"1\" class=\"dataframe\">\n",
       "  <thead>\n",
       "    <tr style=\"text-align: right;\">\n",
       "      <th></th>\n",
       "      <th>crime</th>\n",
       "      <th>large_zones</th>\n",
       "      <th>industry</th>\n",
       "      <th>along_charles</th>\n",
       "      <th>air_pollution</th>\n",
       "      <th>rooms</th>\n",
       "      <th>age</th>\n",
       "      <th>distance_to_centre</th>\n",
       "      <th>highway_access</th>\n",
       "      <th>tax_rate</th>\n",
       "      <th>pupil_teacher_ratio</th>\n",
       "      <th>proportion_immigrants</th>\n",
       "      <th>proportion_low_class</th>\n",
       "      <th>house_price</th>\n",
       "    </tr>\n",
       "  </thead>\n",
       "  <tbody>\n",
       "    <tr>\n",
       "      <th>0</th>\n",
       "      <td>0.00632</td>\n",
       "      <td>18.0</td>\n",
       "      <td>2.31</td>\n",
       "      <td>0</td>\n",
       "      <td>0.538</td>\n",
       "      <td>6.575</td>\n",
       "      <td>65.2</td>\n",
       "      <td>4.0900</td>\n",
       "      <td>1</td>\n",
       "      <td>296</td>\n",
       "      <td>15.3</td>\n",
       "      <td>396.90</td>\n",
       "      <td>4.98</td>\n",
       "      <td>24.0</td>\n",
       "    </tr>\n",
       "    <tr>\n",
       "      <th>1</th>\n",
       "      <td>0.02731</td>\n",
       "      <td>0.0</td>\n",
       "      <td>7.07</td>\n",
       "      <td>0</td>\n",
       "      <td>0.469</td>\n",
       "      <td>6.421</td>\n",
       "      <td>78.9</td>\n",
       "      <td>4.9671</td>\n",
       "      <td>2</td>\n",
       "      <td>242</td>\n",
       "      <td>17.8</td>\n",
       "      <td>396.90</td>\n",
       "      <td>9.14</td>\n",
       "      <td>21.6</td>\n",
       "    </tr>\n",
       "    <tr>\n",
       "      <th>2</th>\n",
       "      <td>0.02729</td>\n",
       "      <td>0.0</td>\n",
       "      <td>7.07</td>\n",
       "      <td>0</td>\n",
       "      <td>0.469</td>\n",
       "      <td>7.185</td>\n",
       "      <td>61.1</td>\n",
       "      <td>4.9671</td>\n",
       "      <td>2</td>\n",
       "      <td>242</td>\n",
       "      <td>17.8</td>\n",
       "      <td>392.83</td>\n",
       "      <td>4.03</td>\n",
       "      <td>34.7</td>\n",
       "    </tr>\n",
       "    <tr>\n",
       "      <th>3</th>\n",
       "      <td>0.03237</td>\n",
       "      <td>0.0</td>\n",
       "      <td>2.18</td>\n",
       "      <td>0</td>\n",
       "      <td>0.458</td>\n",
       "      <td>6.998</td>\n",
       "      <td>45.8</td>\n",
       "      <td>6.0622</td>\n",
       "      <td>3</td>\n",
       "      <td>222</td>\n",
       "      <td>18.7</td>\n",
       "      <td>394.63</td>\n",
       "      <td>2.94</td>\n",
       "      <td>33.4</td>\n",
       "    </tr>\n",
       "    <tr>\n",
       "      <th>4</th>\n",
       "      <td>0.06905</td>\n",
       "      <td>0.0</td>\n",
       "      <td>2.18</td>\n",
       "      <td>0</td>\n",
       "      <td>0.458</td>\n",
       "      <td>7.147</td>\n",
       "      <td>54.2</td>\n",
       "      <td>6.0622</td>\n",
       "      <td>3</td>\n",
       "      <td>222</td>\n",
       "      <td>18.7</td>\n",
       "      <td>396.90</td>\n",
       "      <td>5.33</td>\n",
       "      <td>36.2</td>\n",
       "    </tr>\n",
       "  </tbody>\n",
       "</table>\n",
       "</div>"
      ],
      "text/plain": [
       "     crime  large_zones  industry  along_charles  air_pollution  rooms   age  \\\n",
       "0  0.00632         18.0      2.31              0          0.538  6.575  65.2   \n",
       "1  0.02731          0.0      7.07              0          0.469  6.421  78.9   \n",
       "2  0.02729          0.0      7.07              0          0.469  7.185  61.1   \n",
       "3  0.03237          0.0      2.18              0          0.458  6.998  45.8   \n",
       "4  0.06905          0.0      2.18              0          0.458  7.147  54.2   \n",
       "\n",
       "   distance_to_centre  highway_access  tax_rate  pupil_teacher_ratio  \\\n",
       "0              4.0900               1       296                 15.3   \n",
       "1              4.9671               2       242                 17.8   \n",
       "2              4.9671               2       242                 17.8   \n",
       "3              6.0622               3       222                 18.7   \n",
       "4              6.0622               3       222                 18.7   \n",
       "\n",
       "   proportion_immigrants  proportion_low_class  house_price  \n",
       "0                 396.90                  4.98         24.0  \n",
       "1                 396.90                  9.14         21.6  \n",
       "2                 392.83                  4.03         34.7  \n",
       "3                 394.63                  2.94         33.4  \n",
       "4                 396.90                  5.33         36.2  "
      ]
     },
     "execution_count": 22,
     "metadata": {},
     "output_type": "execute_result"
    }
   ],
   "source": [
    "boston = pandas.read_csv(\"boston.csv\")\n",
    "boston.head()"
   ]
  },
  {
   "cell_type": "markdown",
   "metadata": {},
   "source": [
    "### Performing analysis on data table\n",
    "\n",
    "\n",
    ">**Exercise:**\n",
    "1. Get average price of houses and print outome\n",
    "2. Get maximum price of houses and print outcome\n"
   ]
  },
  {
   "cell_type": "code",
   "execution_count": 23,
   "metadata": {},
   "outputs": [
    {
     "name": "stdout",
     "output_type": "stream",
     "text": [
      "0.5546950592885372\n",
      "0.871\n"
     ]
    }
   ],
   "source": [
    "# Example\n",
    "print( boston.air_pollution.mean() )\n",
    "print( boston.air_pollution.max() )\n",
    "\n",
    "#insert code below\n"
   ]
  },
  {
   "cell_type": "markdown",
   "metadata": {},
   "source": [
    "**Solution:**"
   ]
  },
  {
   "cell_type": "code",
   "execution_count": 47,
   "metadata": {},
   "outputs": [],
   "source": [
    "print(\"Mean house price:\" , boston.house_price.mean() )\n",
    "print(\"Maximum house price:\", boston.house_price.max() )"
   ]
  },
  {
   "cell_type": "markdown",
   "metadata": {},
   "source": [
    "## Analytics - Preparing the data\n",
    "\n",
    "### Creating train & test set.\n",
    "\n",
    "When building a model it is important to split the dataset into a train set and a test set. The model is trained on the training set, and tested on the test set.\n",
    "\n",
    "<img src=\"train_test_v1.png\" alt=\"Drawing\" style=\"width: 500px; align:left\"/>\n",
    "\n",
    ">**Exercise:**\n",
    "1. Split the data into a train and a test set. (train=80%, test=20%)"
   ]
  },
  {
   "cell_type": "code",
   "execution_count": 25,
   "metadata": {},
   "outputs": [],
   "source": [
    "#import specific library to create train and test set\n",
    "from sklearn import model_selection\n",
    "\n",
    "#Example where the test set is (train=60%, test=40%)\n",
    "train, test = model_selection.train_test_split(boston,  test_size = 0.40, random_state=3)"
   ]
  },
  {
   "cell_type": "markdown",
   "metadata": {},
   "source": [
    "**Solution:**"
   ]
  },
  {
   "cell_type": "code",
   "execution_count": 231,
   "metadata": {},
   "outputs": [],
   "source": [
    "#import specific library to create train and test set\n",
    "from sklearn import model_selection\n",
    "\n",
    "train, test = model_selection.train_test_split(boston,  test_size = 0.20, random_state=3)"
   ]
  },
  {
   "cell_type": "markdown",
   "metadata": {},
   "source": [
    "### split dataset Input & target\n",
    "\n",
    "The model needs to know which data is the variable we need to predict, and we need to determine which variables are used as input. In hour case the last column, `house_price`, is the variable we want to predict.\n",
    "\n",
    "<img src=\"input_target.png\" alt=\"Drawing\" style=\"width: 300px; align:left\"/>\n",
    "\n",
    ">**Exercise:**\n",
    "1. split data into input variables and target variables"
   ]
  },
  {
   "cell_type": "code",
   "execution_count": 98,
   "metadata": {},
   "outputs": [],
   "source": [
    "# split train into input and target \n",
    "input_train = train.iloc[:,:-1] #select all but the last column\n",
    "target_train = train.house_price\n",
    "\n",
    "# TODO: split test into input and target, replace 0\n",
    "input_test = ...\n",
    "target_test = ..."
   ]
  },
  {
   "cell_type": "markdown",
   "metadata": {},
   "source": [
    "**Solution:**"
   ]
  },
  {
   "cell_type": "code",
   "execution_count": 26,
   "metadata": {
    "scrolled": true
   },
   "outputs": [],
   "source": [
    "input_train = train.iloc[:,:-1]\n",
    "target_train = train.house_price\n",
    "\n",
    "input_test = test.iloc[:,:-1]\n",
    "target_test = test.house_price"
   ]
  },
  {
   "cell_type": "markdown",
   "metadata": {},
   "source": [
    "## Analytics - Decision Tree\n",
    "\n",
    "<img src=\"decision_tree_v1.png\" alt=\"Drawing\" style=\"width: 500px;\"/>\n",
    "\n",
    "### Define and train a Decision Tree\n",
    "Now we have prepared the data let's train a logistic regression model.\n",
    "\n",
    ">**Exercises:**\n",
    "1. Define the model by creating the model object: `model = DecisionTree()`\n",
    "2. Train the model on the training data by using: `model.fit(X=input_train, y=target_train )`"
   ]
  },
  {
   "cell_type": "code",
   "execution_count": 93,
   "metadata": {},
   "outputs": [],
   "source": [
    "# import model that is needed\n",
    "from sklearn.tree import DecisionTreeRegressor as DecisionTree\n",
    "\n",
    "# TODO: define model\n",
    "model = ..."
   ]
  },
  {
   "cell_type": "code",
   "execution_count": 241,
   "metadata": {},
   "outputs": [],
   "source": [
    "# TODO: fit the model\n",
    "model.fit( X = ... , y = ...)[100]"
   ]
  },
  {
   "cell_type": "markdown",
   "metadata": {},
   "source": [
    "**Solution:**"
   ]
  },
  {
   "cell_type": "code",
   "execution_count": 27,
   "metadata": {},
   "outputs": [
    {
     "data": {
      "text/plain": [
       "DecisionTreeRegressor(criterion='mse', max_depth=None, max_features=None,\n",
       "           max_leaf_nodes=None, min_impurity_decrease=0.0,\n",
       "           min_impurity_split=None, min_samples_leaf=1,\n",
       "           min_samples_split=2, min_weight_fraction_leaf=0.0,\n",
       "           presort=False, random_state=None, splitter='best')"
      ]
     },
     "execution_count": 27,
     "metadata": {},
     "output_type": "execute_result"
    }
   ],
   "source": [
    "# import model that is needed\n",
    "from sklearn.tree import DecisionTreeRegressor as DecisionTree\n",
    "\n",
    "# Fit regression model\n",
    "model = DecisionTree()\n",
    "\n",
    "# train model on training data\n",
    "model.fit(X=input_train, y=target_train)"
   ]
  },
  {
   "cell_type": "markdown",
   "metadata": {},
   "source": [
    "### Predict house price based on characteristics\n",
    "\n",
    "Now we have a trained Decision tree we can use it to determine the house price based on house characteristics.\n"
   ]
  },
  {
   "cell_type": "code",
   "execution_count": 28,
   "metadata": {},
   "outputs": [
    {
     "data": {
      "text/plain": [
       "crime                      0.31533\n",
       "large_zones                0.00000\n",
       "industry                   6.20000\n",
       "along_charles              0.00000\n",
       "air_pollution              0.50400\n",
       "rooms                      8.26600\n",
       "age                       78.30000\n",
       "distance_to_centre         2.89440\n",
       "highway_access             8.00000\n",
       "tax_rate                 307.00000\n",
       "pupil_teacher_ratio       17.40000\n",
       "proportion_immigrants    385.05000\n",
       "proportion_low_class       4.14000\n",
       "Name: 224, dtype: float64"
      ]
     },
     "execution_count": 28,
     "metadata": {},
     "output_type": "execute_result"
    }
   ],
   "source": [
    "# 1 datapoint we want to predict\n",
    "pretty_house = input_test.iloc[0,:] #select first input from test set \n",
    "pretty_house"
   ]
  },
  {
   "cell_type": "markdown",
   "metadata": {},
   "source": [
    ">**Exercises:**\n",
    "1. predict the price of the pretty house you saw strolling through Boston: **model.predict( input_data )**"
   ]
  },
  {
   "cell_type": "code",
   "execution_count": 255,
   "metadata": {},
   "outputs": [],
   "source": [
    "pretty_house = numpy.array(input_test.iloc[0,:]).reshape((1,-1)) # get right input for model\n",
    "\n",
    "#TODO: fill in the dots\n",
    "predicted_price = model.predict( ... )\n",
    "\n",
    "print( predicted_price )"
   ]
  },
  {
   "cell_type": "markdown",
   "metadata": {},
   "source": [
    "**Solution:**"
   ]
  },
  {
   "cell_type": "code",
   "execution_count": 46,
   "metadata": {},
   "outputs": [],
   "source": [
    "pretty_house = numpy.array(input_test.iloc[0,:]).reshape((1,-1)) # get right input for model\n",
    "\n",
    "predicted_price = model.predict( pretty_house )\n",
    "\n",
    "print(predicted_price)"
   ]
  },
  {
   "cell_type": "markdown",
   "metadata": {},
   "source": [
    "### Evaluate quality of the model\n",
    "\n",
    "Although we have used the model to predict the house price, we are not sure how reliable our model is! Let's evaluate our model!\n",
    "\n",
    "Let's start by checking how far this model was off:"
   ]
  },
  {
   "cell_type": "code",
   "execution_count": 30,
   "metadata": {},
   "outputs": [],
   "source": [
    "# print(\"predicted_price:\", predicted_price[0] )\n",
    "# print(\"actual_price:\", target_test.iloc[0])\n",
    "# print(\"difference:\", round( predicted_price[0] - target_test.iloc[0], 2) )"
   ]
  },
  {
   "cell_type": "markdown",
   "metadata": {},
   "source": [
    "This is just one datapoint so it doesn't tell much, we test the model by looking at how the entire test set performs. We do this by using R-squared, a measure that determines what portion of the house price can be determined by the model.\n",
    "\n",
    "<img src=\"r-squared.png\" alt=\"Drawing\" style=\"width: 70%;\"/>\n",
    "\n",
    ">**Exercise:**\n",
    "1. Predict prices for all test data with `model.predict()` function\n",
    "2. Determine r-squared of the model based on the difference between predicted and actual prices. you can use `r2_score(actual, predicted)`\n",
    "\n",
    "HINT 1: The predict funtions needs input data: input_test\n",
    "\n",
    "HINT 2: y_true = target_test\n"
   ]
  },
  {
   "cell_type": "code",
   "execution_count": 261,
   "metadata": {},
   "outputs": [],
   "source": [
    "# Import library to calculate r-squared\n",
    "from sklearn.metrics import r2_score \n",
    "\n",
    "# TODO: fill in the dots\n",
    "target_predicted = model.predict( X = ... )\n",
    "\n",
    "# TODO: fill in the dots\n",
    "r_squared = r2_score( y_true = ... , y_pred = ... )\n",
    "\n",
    "# here we round the r_squared for printability\n",
    "r_squared_rounded = round(r_squared, 3)\n",
    "\n",
    "print( r_squared_rounded )"
   ]
  },
  {
   "cell_type": "markdown",
   "metadata": {},
   "source": [
    "**Solution:**"
   ]
  },
  {
   "cell_type": "code",
   "execution_count": 45,
   "metadata": {},
   "outputs": [],
   "source": [
    "# Import library to calculate r-squared\n",
    "from sklearn.metrics import r2_score \n",
    "\n",
    "target_predicted = model.predict( X = input_test )\n",
    "\n",
    "r_squared = r2_score(y_true = target_test, y_pred = target_predicted)\n",
    "\n",
    "# here we round the r_squared for printability\n",
    "r_squared_rounded = round(r_squared, 3)\n",
    "\n",
    "print( \"R-squared Random forrest:\" , r_squared_rounded )"
   ]
  },
  {
   "cell_type": "markdown",
   "metadata": {},
   "source": [
    "### Visualize Prediction\n",
    "\n",
    "Sometimes you want to visualize the performance of your model. One way to do this is to plot the actual versus predicted values. Underneath you find a function that makes this plotting easy for you"
   ]
  },
  {
   "cell_type": "code",
   "execution_count": 32,
   "metadata": {},
   "outputs": [],
   "source": [
    "import matplotlib.pyplot as plt\n",
    "\n",
    "# Define a plotting function to plot actual vs predicted\n",
    "def plot( predicted, actual):\n",
    "    y = actual\n",
    "    fig, ax = plt.subplots()\n",
    "    ax.scatter(y, predicted, edgecolors=(0, 0, 0))\n",
    "    ax.plot([y.min(), y.max()], [y.min(), y.max()], 'k--', lw=4)\n",
    "    ax.set_title(\"Prediction vs actual house prices Boston in $1000\")\n",
    "    ax.set_xlabel('actual')\n",
    "    ax.set_ylabel('Predicted')\n",
    "    plt.show()"
   ]
  },
  {
   "cell_type": "markdown",
   "metadata": {},
   "source": [
    ">**Exercise:**\n",
    "1. Have a quick look at the above function and run the cell.\n",
    "2. Use this function the predicted versus actual house prices\n",
    "3. How can you interpret this plot"
   ]
  },
  {
   "cell_type": "code",
   "execution_count": 197,
   "metadata": {},
   "outputs": [],
   "source": [
    "predicted = target_predicted\n",
    "actual = target_test\n",
    "\n",
    "#TODO: use plot function to determine actual vs predicted\n",
    "..."
   ]
  },
  {
   "cell_type": "markdown",
   "metadata": {},
   "source": [
    "**Solution:**"
   ]
  },
  {
   "cell_type": "code",
   "execution_count": 44,
   "metadata": {},
   "outputs": [],
   "source": [
    "predicted = target_predicted\n",
    "actual = target_test\n",
    "\n",
    "plot( predicted = predicted, actual = actual )"
   ]
  },
  {
   "cell_type": "markdown",
   "metadata": {},
   "source": [
    "## Analytics - Random Forest\n",
    "\n",
    "A currently popular method is a random forrest, that combine multiple trees to create a stronger model.\n",
    "\n",
    "<img src=\"random_forest_v1.png\" alt=\"Drawing\" style=\"width: 100%;\"/>\n",
    "\n",
    "### Define, train, evaluate and improve a Random Forrest\n",
    ">**Exercise:**\n",
    "1. Look at the difference between the decision tree and random forest code-wise.\n",
    "2. Run the cell block and compare the R-squared of the model with that of the random forest.\n",
    "2. Play with the number of decision trees in the random forest by adjusting `n_estimators`. See what happens with the R-squared of the model."
   ]
  },
  {
   "cell_type": "code",
   "execution_count": 34,
   "metadata": {},
   "outputs": [],
   "source": [
    "from sklearn.ensemble import RandomForestRegressor as RandomForest\n",
    "\n",
    "# Fit regression model TODO: play with n_estimator parameter\n",
    "model_rf = RandomForest( n_estimators = 3, random_state=1)\n",
    "\n",
    "# train model on training data\n",
    "model_rf.fit(X=input_train, y=target_train)\n",
    "\n",
    "from sklearn.metrics import r2_score\n",
    "target_predicted_rf = model_rf.predict( input_test )\n",
    "print( \"Random Forest R-squared:\", round(r2_score(target_test, target_predicted_rf),3) )"
   ]
  },
  {
   "cell_type": "markdown",
   "metadata": {},
   "source": [
    "**Solution:**"
   ]
  },
  {
   "cell_type": "code",
   "execution_count": 35,
   "metadata": {},
   "outputs": [
    {
     "name": "stdout",
     "output_type": "stream",
     "text": [
      "Random Forest R-squared: 0.865\n"
     ]
    }
   ],
   "source": [
    "from sklearn.ensemble import RandomForestRegressor as RandomForest\n",
    "\n",
    "# Fit regression model\n",
    "model_rf = RandomForest( n_estimators = 200, random_state=1)\n",
    "\n",
    "# train model on training data\n",
    "model_rf.fit(X=input_train, y=target_train)\n",
    "\n",
    "from sklearn.metrics import r2_score\n",
    "target_predicted_rf = model_rf.predict( input_test )\n",
    "print( \"Random Forest R-squared:\", round(r2_score(target_test, target_predicted_rf),3) )"
   ]
  },
  {
   "cell_type": "markdown",
   "metadata": {},
   "source": [
    "### Predicting the price of  the pretty house\n",
    "\n",
    "So what does this mean when we try to predict the pretty_house with the new model?\n",
    "\n",
    ">**Exercise:**\n",
    "1. Fill in the missing code to predict house price with random forest.\n",
    "2. Compare the prediction of the decision tree and the random forest, what would this mean if you'd buy a house based on these predictions."
   ]
  },
  {
   "cell_type": "code",
   "execution_count": 41,
   "metadata": {},
   "outputs": [],
   "source": [
    "# Decision Tree\n",
    "pretty_house = numpy.array(input_test.iloc[0,:]).reshape((1,-1)) # get right input for model\n",
    "\n",
    "m = model\n",
    "\n",
    "predicted_price_df = m.predict( pretty_house )\n",
    "\n",
    "print(\"Actual price pretty house:\", target_test.iloc[0])\n",
    "print(\"predicted_price:\", round( predicted_price_df[0], 1))\n",
    "print(\"difference:\", round( predicted_price_df[0] - target_test.iloc[0], 1) )"
   ]
  },
  {
   "cell_type": "code",
   "execution_count": 238,
   "metadata": {},
   "outputs": [],
   "source": [
    "# Random Forest\n",
    "pretty_house = numpy.array(input_test.iloc[0,:]).reshape((1,-1)) # get right input for model\n",
    "\n",
    "m = model_rf\n",
    "\n",
    "#TODO: fill in the dots\n",
    "predicted_price_rf = ...\n",
    "\n",
    "print(\"Actual price pretty house:\", target_test.iloc[0])\n",
    "print(\"predicted_price:\", round( predicted_price_rf[0], 1))\n",
    "print(\"difference:\", round( predicted_price_rf[0] - target_test.iloc[0],1) )"
   ]
  },
  {
   "cell_type": "markdown",
   "metadata": {},
   "source": [
    "**Solution:**"
   ]
  },
  {
   "cell_type": "code",
   "execution_count": 40,
   "metadata": {},
   "outputs": [],
   "source": [
    "# Random Forest\n",
    "pretty_house = numpy.array(input_test.iloc[0,:]).reshape((1,-1)) # get right input for model\n",
    "\n",
    "m = model_rf\n",
    "\n",
    "predicted_price_rf = m.predict( pretty_house )\n",
    "\n",
    "print(\"Actual price pretty house:\", target_test.iloc[0])\n",
    "print(\"predicted_price:\", round( predicted_price_rf[0], 1))\n",
    "print(\"difference:\", round( predicted_price_rf[0] - target_test.iloc[0],1) )"
   ]
  },
  {
   "cell_type": "code",
   "execution_count": null,
   "metadata": {},
   "outputs": [],
   "source": []
  },
  {
   "cell_type": "code",
   "execution_count": null,
   "metadata": {},
   "outputs": [],
   "source": []
  },
  {
   "cell_type": "code",
   "execution_count": null,
   "metadata": {},
   "outputs": [],
   "source": []
  }
 ],
 "metadata": {
  "kernelspec": {
   "display_name": "Python 3",
   "language": "python",
   "name": "python3"
  },
  "language_info": {
   "codemirror_mode": {
    "name": "ipython",
    "version": 3
   },
   "file_extension": ".py",
   "mimetype": "text/x-python",
   "name": "python",
   "nbconvert_exporter": "python",
   "pygments_lexer": "ipython3",
   "version": "3.6.6"
  }
 },
 "nbformat": 4,
 "nbformat_minor": 2
}
